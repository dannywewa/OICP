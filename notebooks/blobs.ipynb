{
 "cells": [
  {
   "cell_type": "markdown",
   "id": "e0036525-e2ef-40db-95d7-67b1e71a1b9f",
   "metadata": {},
   "source": [
    "# Counting Circles and Ellipses\n",
    "\n",
    "To Count Circles and Ellipse in an image, use the SimpleBlobDetector function from OpenCV. For a detailed overview, check the below code for complete implementation To Count Circles and Ellipse in an image using OpenCV. For more information, check this [link](https://docs.opencv.org/master/d0/d7a/classcv_1_1SimpleBlobDetector.html)."
   ]
  },
  {
   "cell_type": "code",
   "execution_count": null,
   "id": "568e72cf-a5ba-4b66-951f-082fb25a622a",
   "metadata": {},
   "outputs": [],
   "source": [
    "import cv2\n",
    "import numpy as np\n",
    "import matplotlib.pyplot as plt\n",
    "\n",
    "# Load image\n",
    "image = cv2.imread('blobs.jpg')\n",
    "image = cv2.cvtColor(image, cv2.COLOR_BGR2RGB)\n",
    "plt.figure(figsize=(20, 20))\n",
    "detector = cv2.SimpleBlobDetector_create()\n",
    "# Detect blobs\n",
    "points = detector.detect(image)\n",
    "\n",
    "blank = np.zeros((1,1)) \n",
    "blobs = cv2.drawKeypoints(image, points, blank, (0,0,255),\n",
    "                                      cv2.DRAW_MATCHES_FLAGS_DRAW_RICH_KEYPOINTS)\n",
    "number_of_blobs = len(keypoints)\n",
    "text = \"Total Blobs: \" + str(len(keypoints))\n",
    "cv2.putText(blobs, text, (20, 550), cv2.FONT_HERSHEY_SIMPLEX, 1, (100, 0, 255), 2)\n",
    "\n",
    "plt.subplot(2, 2, 1)\n",
    "\n",
    "plt.imshow(blobs)\n",
    "# Filtering parameters\n",
    "# Initialize parameter settiing using cv2.SimpleBlobDetector\n",
    "params = cv2.SimpleBlobDetector_Params()\n",
    "# Area filtering parameters\n",
    "params.filterByArea = True\n",
    "params.minArea = 100\n",
    "# Circularity filtering parameters\n",
    "params.filterByCircularity = True \n",
    "params.minCircularity = 0.9\n",
    "# Convexity filtering parameters\n",
    "params.filterByConvexity = False\n",
    "params.minConvexity = 0.2\n",
    "#  inertia filtering parameters\n",
    "params.filterByInertia = True\n",
    "params.minInertiaRatio = 0.01\n",
    "# detector with the parameters\n",
    "detector = cv2.SimpleBlobDetector_create(params)\n",
    "# Detect blobs\n",
    "keypoints = detector.detect(image)\n",
    "# Draw blobs on our image as red circles\n",
    "blank = np.zeros((1,1)) \n",
    "blobs = cv2.drawKeypoints(image, keypoints, blank, (0,255,0),\n",
    "                                      cv2.DRAW_MATCHES_FLAGS_DRAW_RICH_KEYPOINTS)\n",
    "number_of_blobs = len(keypoints)\n",
    "text = \"No.  Circular Blobs: \" + str(len(keypoints))\n",
    "cv2.putText(blobs, text, (20, 550), cv2.FONT_HERSHEY_SIMPLEX, 1, (0, 100, 255), 2)\n",
    "# Show blobs\n",
    "plt.subplot(2, 2, 2)\n",
    "plt.title(\"Filtering Circular Blobs Only\")\n",
    "plt.imshow(blobs)"
   ]
  }
 ],
 "metadata": {
  "kernelspec": {
   "display_name": "Python 3 (ipykernel)",
   "language": "python",
   "name": "python3"
  },
  "language_info": {
   "codemirror_mode": {
    "name": "ipython",
    "version": 3
   },
   "file_extension": ".py",
   "mimetype": "text/x-python",
   "name": "python",
   "nbconvert_exporter": "python",
   "pygments_lexer": "ipython3",
   "version": "3.11.0"
  }
 },
 "nbformat": 4,
 "nbformat_minor": 5
}
