{
 "cells": [
  {
   "cell_type": "markdown",
   "id": "a78d9036-3420-43d4-a1e1-38413c1ea6a3",
   "metadata": {},
   "source": [
    "# Models\n",
    "\n",
    "Models are simply classes which inherit from `pydantic.BaseModel` and define fields as annotated attributes.\n",
    "\n",
    "Models share many similarities with Python's dataclasses, but have been designed with some subtle-yet-import differences that streamline certain workflows related to validation, serialization, and JSON schema generation."
   ]
  },
  {
   "cell_type": "code",
   "execution_count": 7,
   "id": "107037f0-46d5-4d4a-8e36-e1b9bb03a035",
   "metadata": {},
   "outputs": [],
   "source": [
    "from pydantic import BaseModel\n",
    "\n",
    "class User(BaseModel):\n",
    "    id: int\n",
    "    name: str = 'Jane Doe'\n",
    "\n",
    "user = User(id='123')"
   ]
  },
  {
   "cell_type": "markdown",
   "id": "2d5fcb67-19f6-46a9-a1b8-2968d444572b",
   "metadata": {},
   "source": [
    "In this example, `user` is an instance of `User`. Initialization of the object will perform all parsing and validation."
   ]
  },
  {
   "cell_type": "code",
   "execution_count": 9,
   "id": "936b2e4e-ce27-426e-8a2f-5525993791d7",
   "metadata": {},
   "outputs": [],
   "source": [
    "assert user.id == 123\n",
    "assert isinstance(user.id, int)\n",
    "assert user.name == 'Jane Doe'\n",
    "assert user.model_fields_set == {'id'}\n",
    "assert user.model_dump() == {'id': 123, 'name': 'Jane Doe'}"
   ]
  },
  {
   "cell_type": "markdown",
   "id": "261261f6-37ee-40ff-b9d2-b3ec6b994b45",
   "metadata": {},
   "source": [
    "## Model methods and properties\n",
    "\n",
    "| methods or properties | description |\n",
    "| ---- | ---- |\n",
    "| `model_computed_fields` | a dictionaty of the computed fields of this model instance. |\n",
    "| `model_construct()` | a class method for creating models without running validation. |\n",
    "| `model_copy()` | returns a copy (by default, shallow copy) of the model.\n",
    "| `model_dump()` | returns a dictionary of the model's fields and values |\n",
    "| `model_dump_json()` | returns a JSON string representation of `model_dump()` |\n",
    "| `model_extra` | get extra fields set during validation |\n",
    "| `model_fields_set` | set of fields which were set when the model instance was initialized. |\n",
    "| `model_json_schema` | returns a jsonable dictionary representing the model as JSON Schema. |\n",
    "| `model_parametrized_name()` | |\n",
    "| `model_validate()` | a utility for loading any object into a model. |\n",
    "| `model_validate_json()` | a utility for validating the given JSON data against the Pydantic model |"
   ]
  },
  {
   "cell_type": "code",
   "execution_count": 15,
   "id": "d2c209a1-20e0-44d1-92a5-fb3e6945e018",
   "metadata": {},
   "outputs": [
    {
     "name": "stdout",
     "output_type": "stream",
     "text": [
      "foo=Foo(count=4, size=None) bar=[Bar(apple='x1', banana='y'), Bar(apple='x2', banana='y')]\n",
      "{'foo': {'count': 4, 'size': None}, 'bar': [{'apple': 'x1', 'banana': 'y'}, {'apple': 'x2', 'banana': 'y'}]}\n"
     ]
    }
   ],
   "source": [
    "from typing import List, Optional\n",
    "from pydantic import BaseModel\n",
    "\n",
    "class Foo(BaseModel):\n",
    "    count: int\n",
    "    size: Optional[float] = None\n",
    "\n",
    "class Bar(BaseModel):\n",
    "    apple: str = 'x'\n",
    "    banana: str = 'y'\n",
    "\n",
    "class Spam(BaseModel):\n",
    "    foo: Foo\n",
    "    bar: List[Bar]\n",
    "\n",
    "m = Spam(foo={'count': 4}, bar=[{'apple': 'x1'}, {'apple': 'x2'}])\n",
    "print(m)\n",
    "\n",
    "print(m.model_dump())"
   ]
  },
  {
   "cell_type": "code",
   "execution_count": 19,
   "id": "c6c25cfd-90b0-4eab-a067-e1150a198641",
   "metadata": {},
   "outputs": [
    {
     "name": "stdout",
     "output_type": "stream",
     "text": [
      "{'$defs': {'Bar': {'properties': {}, 'title': 'Bar', 'type': 'object'}}, 'properties': {'x': {'$ref': '#/$defs/Bar'}}, 'required': ['x'], 'title': 'Foo', 'type': 'object'}\n"
     ]
    }
   ],
   "source": [
    "from pydantic import BaseModel, PydanticUserError\n",
    "\n",
    "class Foo(BaseModel):\n",
    "    x: 'Bar'\n",
    "\n",
    "try:\n",
    "    Foo.model_json_schema()\n",
    "except PydanticUserError as e:\n",
    "    print(e)\n",
    "\n",
    "class Bar(BaseModel):\n",
    "    pass\n",
    "\n",
    "Foo.model_rebuild()\n",
    "print(Foo.model_json_schema())"
   ]
  },
  {
   "cell_type": "code",
   "execution_count": null,
   "id": "f5ed1e94-594c-427d-bf23-c090b1ce5133",
   "metadata": {},
   "outputs": [],
   "source": [
    "from typing import List\n",
    "from pydantic import BaseModel, ConfigDict\n",
    "\n",
    "class PetCls:\n",
    "    def __init__(self, *, name: str, species: str):\n",
    "        self.name = name\n",
    "        self.species = species\n",
    "\n",
    "class PersonCls:\n",
    "    def __init__(self, *, name: str, age: float = None, pets: List[PetCls]):\n",
    "        self.name = name\n",
    "        self.age = age\n",
    "        self.pets = pets\n",
    "\n",
    "class Pet(BaseModel):\n",
    "    model_config = ConfigDict(from_attributes=True)\n",
    "    name: str\n",
    "    species: str\n",
    "\n",
    "class Person(BaseModel):\n",
    "    model_config = ConfigDict(from_attributes=True)\n",
    "    name: str\n",
    "    age: float = None\n",
    "    pets: List[Ped]\n",
    "\n",
    "bones = )et"
   ]
  },
  {
   "cell_type": "markdown",
   "id": "3990a6cd-cc22-449f-8525-bf89cdc9014b",
   "metadata": {},
   "source": [
    "# Fields"
   ]
  },
  {
   "cell_type": "markdown",
   "id": "d9c63ece-5b17-4c30-8b43-7cabd1146d87",
   "metadata": {},
   "source": [
    "# JSON Schema"
   ]
  },
  {
   "cell_type": "markdown",
   "id": "598a9543-9368-4230-b96a-3d1273865c11",
   "metadata": {},
   "source": [
    "# Types"
   ]
  },
  {
   "cell_type": "markdown",
   "id": "2812c331-1aa8-440f-9ab1-391c0b1aab47",
   "metadata": {},
   "source": [
    "# Models"
   ]
  },
  {
   "cell_type": "markdown",
   "id": "e5e00fc9-5a29-4220-84ea-b11028956fbc",
   "metadata": {},
   "source": [
    "# Models"
   ]
  },
  {
   "cell_type": "code",
   "execution_count": 1,
   "id": "ff70e901-11d8-4d0f-88f2-31c3e6907bcb",
   "metadata": {},
   "outputs": [
    {
     "name": "stdout",
     "output_type": "stream",
     "text": [
      "datetime.datetime(2020, 1, 2, 3, 4, 5, tzinfo=TzInfo(UTC))\n",
      "(10, 20)\n"
     ]
    }
   ],
   "source": [
    "# Example\n",
    "from datetime import datetime\n",
    "from typing import Tuple\n",
    "\n",
    "from pydantic import BaseModel\n",
    "\n",
    "\n",
    "class Delivery(BaseModel):\n",
    "    timestamp: datetime\n",
    "    dimensions: Tuple[int, int]\n",
    "\n",
    "\n",
    "m = Delivery(timestamp='2020-01-02T03:04:05Z', dimensions=['10', '20'])\n",
    "print(repr(m.timestamp))\n",
    "#> datetime.datetime(2020, 1, 2, 3, 4, 5, tzinfo=TzInfo(UTC))\n",
    "print(m.dimensions)\n",
    "#> (10, 20)"
   ]
  },
  {
   "cell_type": "code",
   "execution_count": 2,
   "id": "1b081fa9-b1e2-45fd-808a-02060905742e",
   "metadata": {},
   "outputs": [
    {
     "name": "stdout",
     "output_type": "stream",
     "text": [
      "123\n",
      "{'id': 123, 'name': 'John Doe', 'signup_ts': datetime.datetime(2019, 6, 1, 12, 22), 'tastes': {'wine': 9, 'cheese': 7, 'cabbage': 1}}\n"
     ]
    },
    {
     "data": {
      "text/plain": [
       "\"\\n{\\n    'id': 123,\\n    'name': 'John Doe',\\n    'signup_ts': datetime.datetime(2019, 6, 1, 12, 22),\\n    'tastes': {'wine': 9, 'cheese': 7, 'cabbage': 1},\\n}\\n\""
      ]
     },
     "execution_count": 2,
     "metadata": {},
     "output_type": "execute_result"
    }
   ],
   "source": [
    "# Example\n",
    "from datetime import datetime\n",
    "\n",
    "from pydantic import BaseModel, PositiveInt\n",
    "\n",
    "\n",
    "class User(BaseModel):\n",
    "    id: int  \n",
    "    name: str = 'John Doe'  \n",
    "    signup_ts: datetime | None  \n",
    "    tastes: dict[str, PositiveInt]  \n",
    "\n",
    "\n",
    "external_data = {\n",
    "    'id': 123,\n",
    "    'signup_ts': '2019-06-01 12:22',  \n",
    "    'tastes': {\n",
    "        'wine': 9,\n",
    "        b'cheese': 7,  \n",
    "        'cabbage': '1',  \n",
    "    },\n",
    "}\n",
    "\n",
    "user = User(**external_data)  \n",
    "\n",
    "print(user.id)  \n",
    "#> 123\n",
    "print(user.model_dump())  \n",
    "\"\"\"\n",
    "{\n",
    "    'id': 123,\n",
    "    'name': 'John Doe',\n",
    "    'signup_ts': datetime.datetime(2019, 6, 1, 12, 22),\n",
    "    'tastes': {'wine': 9, 'cheese': 7, 'cabbage': 1},\n",
    "}\n",
    "\"\"\"\n"
   ]
  },
  {
   "cell_type": "code",
   "execution_count": 3,
   "id": "13375023-7b5f-452e-856f-15d0919a4e87",
   "metadata": {},
   "outputs": [
    {
     "name": "stdout",
     "output_type": "stream",
     "text": [
      "[{'type': 'int_parsing', 'loc': ('id',), 'msg': 'Input should be a valid integer, unable to parse string as an integer', 'input': 'not an int', 'url': 'https://errors.pydantic.dev/2.5/v/int_parsing'}, {'type': 'missing', 'loc': ('signup_ts',), 'msg': 'Field required', 'input': {'id': 'not an int', 'tastes': {}}, 'url': 'https://errors.pydantic.dev/2.5/v/missing'}]\n"
     ]
    }
   ],
   "source": [
    "# Excample\n",
    "\n",
    "# continuing the above example...\n",
    "\n",
    "from pydantic import ValidationError\n",
    "\n",
    "\n",
    "class User(BaseModel):\n",
    "    id: int\n",
    "    name: str = 'John Doe'\n",
    "    signup_ts: datetime | None\n",
    "    tastes: dict[str, PositiveInt]\n",
    "\n",
    "\n",
    "external_data = {'id': 'not an int', 'tastes': {}}  \n",
    "\n",
    "try:\n",
    "    User(**external_data)  \n",
    "except ValidationError as e:\n",
    "    print(e.errors())\n",
    "    \"\"\"\n",
    "    [\n",
    "        {\n",
    "            'type': 'int_parsing',\n",
    "            'loc': ('id',),\n",
    "            'msg': 'Input should be a valid integer, unable to parse string as an integer',\n",
    "            'input': 'not an int',\n",
    "            'url': 'https://errors.pydantic.dev/2/v/int_parsing',\n",
    "        },\n",
    "        {\n",
    "            'type': 'missing',\n",
    "            'loc': ('signup_ts',),\n",
    "            'msg': 'Field required',\n",
    "            'input': {'id': 'not an int', 'tastes': {}},\n",
    "            'url': 'https://errors.pydantic.dev/2/v/missing',\n",
    "        },\n",
    "    ]\n",
    "    \"\"\"\n"
   ]
  },
  {
   "cell_type": "code",
   "execution_count": 5,
   "id": "aa0ad383-a1f5-4b20-aeb9-971cd1141e47",
   "metadata": {},
   "outputs": [
    {
     "name": "stdout",
     "output_type": "stream",
     "text": [
      "name='Apple' color='red' weight=4.2 bazam={'foobar': [(1, True, 0.1)]}\n"
     ]
    }
   ],
   "source": [
    "# Example\n",
    "\n",
    "from typing import Annotated, Dict, List, Literal, Tuple\n",
    "from annotated_types import Gt\n",
    "from pydantic import BaseModel\n",
    "\n",
    "class Fruit(BaseModel):\n",
    "    name: str\n",
    "    color: Literal['red', 'green']\n",
    "    weight: Annotated[float, Gt(0)]\n",
    "    bazam: Dict[str, List[Tuple[int, bool, float]]]\n",
    "\n",
    "print(\n",
    "    Fruit(\n",
    "        name='Apple',\n",
    "        color='red',\n",
    "        weight=4.2,\n",
    "        bazam={'foobar': [(1, True, 0.1)]},\n",
    "    )\n",
    ")"
   ]
  },
  {
   "cell_type": "markdown",
   "id": "7b4d0f73-6305-49f2-b31a-cd86d315da0a",
   "metadata": {},
   "source": [
    "## Performance\n",
    "\n",
    "Pydantic's core validation logic is implemented in separate package `pydantic-core`, where validation fro most types is implemented in Rust.\n",
    "\n",
    "## Serialization\n",
    "\n",
    "Pydantic provides functionality to seerialize model in three ways:\n",
    "\n",
    "1. To a Python `dict` made up of the associated Python objects\n",
    "2. To a Python `dict` made up only of \"jsonable\" types\n",
    "3. To a JSON string\n",
    "\n",
    "## JSON Schema\n",
    "\n",
    "JSON Schema can be generated from any Pydantic schema.\n",
    "\n",
    "## Strict mode and data coercion\n",
    "\n",
    "By default, Pydantic is tolerant to common incorrect types and coerces data to the right type.\n",
    "\n",
    "Pydantic also has `strict=True` mode, where types are not coerced and a validation error is raised unless the input data exactly amtches the schema or type hint.\n",
    "\n",
    "## Dataclasses, TypedDicts, and more\n",
    "\n",
    "Pydantic provides four ways to create schemas and perform validation and serialization:\n",
    "\n",
    "1. `BaseModel` - Pydantic's own super class with many common utilities available via instance methods.\n",
    "2. `pydantic.dataclasses.dataclass` - a wrapper around standard dataclasses which performs validation when a dataclass is initializedc.\n",
    "3. `TypeAdapter` - a general way to adapt any type for validation and serialization.\n",
    "4. `validate_call` - a decorator to perform validation when calling a function.\n",
    "\n",
    "5. "
   ]
  }
 ],
 "metadata": {
  "kernelspec": {
   "display_name": "Python 3 (ipykernel)",
   "language": "python",
   "name": "python3"
  },
  "language_info": {
   "codemirror_mode": {
    "name": "ipython",
    "version": 3
   },
   "file_extension": ".py",
   "mimetype": "text/x-python",
   "name": "python",
   "nbconvert_exporter": "python",
   "pygments_lexer": "ipython3",
   "version": "3.11.7"
  }
 },
 "nbformat": 4,
 "nbformat_minor": 5
}
