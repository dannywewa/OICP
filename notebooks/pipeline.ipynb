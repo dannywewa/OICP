{
 "cells": [
  {
   "cell_type": "markdown",
   "id": "f427a719-2e91-421d-9602-848e70b10f0c",
   "metadata": {},
   "source": [
    "# OICP Image Process Pipeline\n",
    "\n",
    "## Intro\n",
    "\n",
    "The pipeline processes images in the following stages:\n",
    "\n",
    "- Defective Pixel Correction\n",
    "- Color Shift Correction\n",
    "- Dark Field Correction\n",
    "- Flat Field Correction\n",
    "- Exposure Normalization\n",
    "- Demosaic (Optional)\n",
    "- RGB to Tristimulus (Optinal)\n",
    "- Color Correction\n",
    "- Luminance Correction (Optional)\n",
    "- Distortion Correction\n",
    "- Color Space Conversion"
   ]
  },
  {
   "cell_type": "markdown",
   "id": "a1acc946-3ff6-4b13-8459-4d7a245eec2d",
   "metadata": {},
   "source": [
    "## Defective Pixel Correction\n",
    "\n",
    "- input:\n",
    "  + 8-bit, 10-bit, 12-bit images in X/Y/Z channels, or,\n",
    "  + 8-bit, 10-bit, 12-bit images in Bayer pattern, or,\n",
    "  + 8-bit, 10-bit, 12-bit images in RGB format\n",
    "- output:\n",
    "  + same format as input\n",
    "- using:\n",
    "  + defective pixel map\n",
    "  + algo for correcting defective pixels"
   ]
  },
  {
   "cell_type": "markdown",
   "id": "f278bcba-f83f-4893-98d7-28abc07ad2d0",
   "metadata": {},
   "source": [
    "## Dark Field Correction\n",
    "\n",
    "- input:\n",
    "  * images in X/Y/Z channels, or,\n",
    "  * images in Bayer pattern, or,\n",
    "  * images in RGB format\n",
    "  * exposure time\n",
    "- output:\n",
    "  * images in the same format as the input\n",
    "- using:\n",
    "  * dark field calibration data"
   ]
  },
  {
   "cell_type": "markdown",
   "id": "2c734b42-8a7b-4630-ab2c-9a0b53f185bb",
   "metadata": {},
   "source": [
    "## Flat Field Correction\n",
    "\n",
    "- input:\n",
    "  * images in X/Y/Z channels,\n",
    "  * images in Bayer pattern, or\n",
    "  * images in RGB format\n",
    "- output:\n",
    "  * images in the same format as the input\n",
    "- using:\n",
    "  * flat field calibration data"
   ]
  },
  {
   "cell_type": "markdown",
   "id": "f577cfe0-7646-4c95-a75d-4295623547f8",
   "metadata": {},
   "source": [
    "## Color Shift Correction\n",
    "\n",
    "- input:\n",
    "  * images in XYZ channels,\n",
    "  * images in Bayer pattern, or\n",
    "  * images in RGB format\n",
    "- output:\n",
    "  * images in the same format as the input\n",
    "- using:\n",
    "  * color shift calibration data for X/Y/Z channels"
   ]
  },
  {
   "cell_type": "markdown",
   "id": "8eb035d7-6f5e-43d6-90ab-8f27ed7c5d0f",
   "metadata": {},
   "source": [
    "## Exposure Normalization\n",
    "\n",
    "- input:\n",
    "  * images in XYZ channels,\n",
    "  * images in Bayer pattern, or\n",
    "  * images in RGB format\n",
    "  * exposure time\n",
    "- output:\n",
    "  * images in the same format as the input\n",
    "- using:\n",
    "  * algorithm to normalize the graylevel to per millisecond"
   ]
  },
  {
   "cell_type": "markdown",
   "id": "c987637a-8cae-4d11-812f-6f70ae7d2f24",
   "metadata": {},
   "source": [
    "## Demosaic (Optional)\n",
    "\n",
    "- input:\n",
    "  * images in Bayer pattern\n",
    "- output:\n",
    "  * images in RGB format\n",
    "- using:\n",
    "  * Demosaicing algorithm\n",
    "  * Optional: light source wavelength\n"
   ]
  },
  {
   "cell_type": "markdown",
   "id": "17885896-0574-430d-8847-27d0d44ed67f",
   "metadata": {},
   "source": [
    "## RGB to Tristimulus Conversion (Optional)\n",
    "\n",
    "- input:\n",
    "  * images in RGB format\n",
    "- output:\n",
    "  * images in XYZ format\n",
    "- using:\n",
    "  * Algorithm\n",
    "  * Optional: light source wavelength\n"
   ]
  },
  {
   "cell_type": "markdown",
   "id": "48432bab-f5a3-4121-ae71-f005b21bce1d",
   "metadata": {},
   "source": [
    "## Color Correction\n",
    "\n",
    "- input:\n",
    "  * Images in tristimulus format: XYZ\n",
    "- output:\n",
    "  * Images in tristimulus format: XYZ\n",
    "- using:\n",
    "  * RGBW color calibration data"
   ]
  },
  {
   "cell_type": "markdown",
   "id": "ceb4dfc1-0091-421f-850e-24da07d9ad2e",
   "metadata": {},
   "source": [
    "## Luminance Correction (Optional)\n",
    "\n",
    "k coefficient?"
   ]
  },
  {
   "cell_type": "markdown",
   "id": "1cbd3433-3ce9-41c0-b27f-c1a12e463de4",
   "metadata": {},
   "source": [
    "## Distortion Correction\n",
    "\n",
    "- input:\n",
    "  * images in tristimulus format: XYZ, or\n",
    "  * images with luminance only: Y\n",
    "- output:\n",
    "  * images in tristimulus format: XYZ, or\n",
    "  * images with luminance only: Y\n",
    "- using:\n",
    "  * distortion calibration: undistortion polynomial, extrinsic and intrinsic matrix"
   ]
  },
  {
   "cell_type": "markdown",
   "id": "b70ef463-473e-4f72-a9ef-22159babef50",
   "metadata": {},
   "source": [
    "## Color Space Conversion\n",
    "\n",
    "- input:\n",
    "  * images in tristimulus format: XYZ\n",
    "- output:\n",
    "  * data in color space: CIExyY, CIELUV, CIELAB, HSLuv"
   ]
  },
  {
   "cell_type": "code",
   "execution_count": null,
   "id": "a6bd5943-0a41-4b7c-8db2-6665c23b5124",
   "metadata": {},
   "outputs": [],
   "source": []
  }
 ],
 "metadata": {
  "kernelspec": {
   "display_name": "Python 3 (ipykernel)",
   "language": "python",
   "name": "python3"
  },
  "language_info": {
   "codemirror_mode": {
    "name": "ipython",
    "version": 3
   },
   "file_extension": ".py",
   "mimetype": "text/x-python",
   "name": "python",
   "nbconvert_exporter": "python",
   "pygments_lexer": "ipython3",
   "version": "3.11.0"
  }
 },
 "nbformat": 4,
 "nbformat_minor": 5
}
